{
 "cells": [
  {
   "cell_type": "code",
   "execution_count": 1,
   "id": "0bb727d2",
   "metadata": {},
   "outputs": [],
   "source": [
    "import numpy as np\n",
    "import matplotlib.pyplot as plt\n",
    "import pandas as pd\n",
    "import os\n",
    "import tensorflow as tf\n",
    "from PIL import Image, ImageDraw"
   ]
  },
  {
   "cell_type": "markdown",
   "id": "a72af3f2",
   "metadata": {},
   "source": [
    "### Task 1: Plot the ground truth bounding boxes over the image"
   ]
  },
  {
   "cell_type": "code",
   "execution_count": 2,
   "id": "03570e3e",
   "metadata": {},
   "outputs": [
    {
     "data": {
      "text/html": [
       "<div>\n",
       "<style scoped>\n",
       "    .dataframe tbody tr th:only-of-type {\n",
       "        vertical-align: middle;\n",
       "    }\n",
       "\n",
       "    .dataframe tbody tr th {\n",
       "        vertical-align: top;\n",
       "    }\n",
       "\n",
       "    .dataframe thead th {\n",
       "        text-align: right;\n",
       "    }\n",
       "</style>\n",
       "<table border=\"1\" class=\"dataframe\">\n",
       "  <thead>\n",
       "    <tr style=\"text-align: right;\">\n",
       "      <th></th>\n",
       "      <th>filename</th>\n",
       "      <th>width</th>\n",
       "      <th>height</th>\n",
       "      <th>class</th>\n",
       "      <th>xmin</th>\n",
       "      <th>ymin</th>\n",
       "      <th>xmax</th>\n",
       "      <th>ymax</th>\n",
       "      <th>source</th>\n",
       "    </tr>\n",
       "  </thead>\n",
       "  <tbody>\n",
       "    <tr>\n",
       "      <th>0</th>\n",
       "      <td>kangaroo-623.jpg</td>\n",
       "      <td>1000</td>\n",
       "      <td>667</td>\n",
       "      <td>kangaroo</td>\n",
       "      <td>26</td>\n",
       "      <td>165</td>\n",
       "      <td>196</td>\n",
       "      <td>629</td>\n",
       "      <td>https://animals.sandiegozoo.org/sites/default/...</td>\n",
       "    </tr>\n",
       "    <tr>\n",
       "      <th>1</th>\n",
       "      <td>kangaroo-456.jpg</td>\n",
       "      <td>1200</td>\n",
       "      <td>720</td>\n",
       "      <td>kangaroo</td>\n",
       "      <td>741</td>\n",
       "      <td>1</td>\n",
       "      <td>1058</td>\n",
       "      <td>720</td>\n",
       "      <td>https://cdn2.wanderlust.co.uk/media/3741/artic...</td>\n",
       "    </tr>\n",
       "    <tr>\n",
       "      <th>2</th>\n",
       "      <td>kangaroo-25.jpg</td>\n",
       "      <td>1900</td>\n",
       "      <td>1289</td>\n",
       "      <td>kangaroo</td>\n",
       "      <td>1020</td>\n",
       "      <td>831</td>\n",
       "      <td>1225</td>\n",
       "      <td>1114</td>\n",
       "      <td>https://www.nationalgeographic.com/content/dam...</td>\n",
       "    </tr>\n",
       "    <tr>\n",
       "      <th>3</th>\n",
       "      <td>kangaroo-434.jpg</td>\n",
       "      <td>805</td>\n",
       "      <td>604</td>\n",
       "      <td>kangaroo</td>\n",
       "      <td>468</td>\n",
       "      <td>4</td>\n",
       "      <td>805</td>\n",
       "      <td>604</td>\n",
       "      <td>https://i.insider.com/5aeb3e57bd96714d008b45d6...</td>\n",
       "    </tr>\n",
       "    <tr>\n",
       "      <th>4</th>\n",
       "      <td>kangaroo-596.jpg</td>\n",
       "      <td>679</td>\n",
       "      <td>929</td>\n",
       "      <td>kangaroo</td>\n",
       "      <td>1</td>\n",
       "      <td>683</td>\n",
       "      <td>161</td>\n",
       "      <td>925</td>\n",
       "      <td>https://images-na.ssl-images-amazon.com/images...</td>\n",
       "    </tr>\n",
       "    <tr>\n",
       "      <th>...</th>\n",
       "      <td>...</td>\n",
       "      <td>...</td>\n",
       "      <td>...</td>\n",
       "      <td>...</td>\n",
       "      <td>...</td>\n",
       "      <td>...</td>\n",
       "      <td>...</td>\n",
       "      <td>...</td>\n",
       "      <td>...</td>\n",
       "    </tr>\n",
       "    <tr>\n",
       "      <th>417</th>\n",
       "      <td>kangaroo-79.jpg</td>\n",
       "      <td>1200</td>\n",
       "      <td>881</td>\n",
       "      <td>kangaroo</td>\n",
       "      <td>562</td>\n",
       "      <td>365</td>\n",
       "      <td>1051</td>\n",
       "      <td>793</td>\n",
       "      <td>https://thumbor.forbes.com/thumbor/fit-in/1200...</td>\n",
       "    </tr>\n",
       "    <tr>\n",
       "      <th>418</th>\n",
       "      <td>kangaroo-666.jpg</td>\n",
       "      <td>862</td>\n",
       "      <td>575</td>\n",
       "      <td>kangaroo</td>\n",
       "      <td>428</td>\n",
       "      <td>296</td>\n",
       "      <td>835</td>\n",
       "      <td>568</td>\n",
       "      <td>https://www.abc.net.au/cm/rimage/9902278-3x2-x...</td>\n",
       "    </tr>\n",
       "    <tr>\n",
       "      <th>419</th>\n",
       "      <td>kangaroo-140.jpg</td>\n",
       "      <td>1500</td>\n",
       "      <td>2250</td>\n",
       "      <td>kangaroo</td>\n",
       "      <td>1</td>\n",
       "      <td>160</td>\n",
       "      <td>1418</td>\n",
       "      <td>2250</td>\n",
       "      <td>https://philadelphiazoo.org/wp-content/uploads...</td>\n",
       "    </tr>\n",
       "    <tr>\n",
       "      <th>420</th>\n",
       "      <td>kangaroo-650.jpg</td>\n",
       "      <td>1024</td>\n",
       "      <td>683</td>\n",
       "      <td>kangaroo</td>\n",
       "      <td>515</td>\n",
       "      <td>57</td>\n",
       "      <td>851</td>\n",
       "      <td>603</td>\n",
       "      <td>https://img.theculturetrip.com/wp-content/uplo...</td>\n",
       "    </tr>\n",
       "    <tr>\n",
       "      <th>421</th>\n",
       "      <td>kangaroo-34.jpg</td>\n",
       "      <td>1200</td>\n",
       "      <td>800</td>\n",
       "      <td>kangaroo</td>\n",
       "      <td>1081</td>\n",
       "      <td>318</td>\n",
       "      <td>1198</td>\n",
       "      <td>645</td>\n",
       "      <td>https://images.newscientist.com/wp-content/upl...</td>\n",
       "    </tr>\n",
       "  </tbody>\n",
       "</table>\n",
       "<p>422 rows × 9 columns</p>\n",
       "</div>"
      ],
      "text/plain": [
       "             filename  width  height     class  xmin  ymin  xmax  ymax  \\\n",
       "0    kangaroo-623.jpg   1000     667  kangaroo    26   165   196   629   \n",
       "1    kangaroo-456.jpg   1200     720  kangaroo   741     1  1058   720   \n",
       "2     kangaroo-25.jpg   1900    1289  kangaroo  1020   831  1225  1114   \n",
       "3    kangaroo-434.jpg    805     604  kangaroo   468     4   805   604   \n",
       "4    kangaroo-596.jpg    679     929  kangaroo     1   683   161   925   \n",
       "..                ...    ...     ...       ...   ...   ...   ...   ...   \n",
       "417   kangaroo-79.jpg   1200     881  kangaroo   562   365  1051   793   \n",
       "418  kangaroo-666.jpg    862     575  kangaroo   428   296   835   568   \n",
       "419  kangaroo-140.jpg   1500    2250  kangaroo     1   160  1418  2250   \n",
       "420  kangaroo-650.jpg   1024     683  kangaroo   515    57   851   603   \n",
       "421   kangaroo-34.jpg   1200     800  kangaroo  1081   318  1198   645   \n",
       "\n",
       "                                                source  \n",
       "0    https://animals.sandiegozoo.org/sites/default/...  \n",
       "1    https://cdn2.wanderlust.co.uk/media/3741/artic...  \n",
       "2    https://www.nationalgeographic.com/content/dam...  \n",
       "3    https://i.insider.com/5aeb3e57bd96714d008b45d6...  \n",
       "4    https://images-na.ssl-images-amazon.com/images...  \n",
       "..                                                 ...  \n",
       "417  https://thumbor.forbes.com/thumbor/fit-in/1200...  \n",
       "418  https://www.abc.net.au/cm/rimage/9902278-3x2-x...  \n",
       "419  https://philadelphiazoo.org/wp-content/uploads...  \n",
       "420  https://img.theculturetrip.com/wp-content/uplo...  \n",
       "421  https://images.newscientist.com/wp-content/upl...  \n",
       "\n",
       "[422 rows x 9 columns]"
      ]
     },
     "execution_count": 2,
     "metadata": {},
     "output_type": "execute_result"
    }
   ],
   "source": [
    "train_dataset = pd.read_csv(\"./kangaroodataset/train_labels.csv\")\n",
    "train_dataset"
   ]
  },
  {
   "cell_type": "markdown",
   "id": "b10eb40d",
   "metadata": {},
   "source": [
    "##### Task 1.1 Join the path of the images in the file, convert the image to array and store it in a numpy array"
   ]
  },
  {
   "cell_type": "code",
   "execution_count": 3,
   "id": "6059b46d",
   "metadata": {},
   "outputs": [],
   "source": [
    "def get_new_dims(x_min, y_min, x_max, y_max, width, height, rx, ry):\n",
    "    cy = float(y_min + y_max)/2\n",
    "    cx = float(x_min + x_max)/2\n",
    "    \n",
    "    h = float(y_max - y_min)\n",
    "    w = float(x_max - x_min)\n",
    "    \n",
    "    ncx = float((rx/width) * cx)\n",
    "    ncy = float((ry/height) * cy)\n",
    "    \n",
    "    nw = float((rx/width) * w)\n",
    "    nh = float((ry/height) * h)\n",
    "    \n",
    "    nx_min = float(ncx - nw/2)\n",
    "    nx_max = float(ncx + nw/2)\n",
    "    \n",
    "    ny_min = float(ncy - nh/2)\n",
    "    ny_max = float(ncy + nh/2)\n",
    "    \n",
    "    nh = float(ny_max - ny_min)\n",
    "    nw = float(nx_max - nx_min)\n",
    "    \n",
    "    nx_min = float(\"{:.2f}\".format(nx_min))\n",
    "    ny_min = float(\"{:.2f}\".format(ny_min))\n",
    "    nx_max = float(\"{:.2f}\".format(nx_max))\n",
    "    ny_max = float(\"{:.2f}\".format(ny_max))\n",
    "    \n",
    "    nh = float(\"{:.2f}\".format(nh/ry))\n",
    "    nw = float(\"{:.2f}\".format(nw/rx))\n",
    "    ncx = float(\"{:.2f}\".format(ncx/rx))\n",
    "    ncy = float(\"{:.2f}\".format(ncy/ry))\n",
    "    \n",
    "    return nx_min, ny_min, nx_max, ny_max, ncx, ncy, nh, nw\n",
    "\n",
    "def get_img_path():\n",
    "    root_path = os.path.join('kangaroodataset', 'images')\n",
    "    \n",
    "    train_data = []\n",
    "    \n",
    "    for i in range(train_dataset.shape[0]):\n",
    "        rx = 150\n",
    "        ry = 150\n",
    "\n",
    "        img_name = train_dataset.iloc[i, 0]\n",
    "        x_min, y_min, x_max, y_max = train_dataset.iloc[i, 4:8]\n",
    "        width, height = train_dataset.iloc[i, 1:3]\n",
    "\n",
    "        nx_min, ny_min, nx_max, ny_max, ncx, ncy, nh, nw = get_new_dims(x_min, y_min, x_max, y_max, width, height, rx, ry)\n",
    "        \n",
    "        img_path = os.path.join(root_path, img_name)\n",
    "        if(os.path.exists(img_path)):\n",
    "            im = Image.open(img_path)\n",
    "            im = im.resize((rx, ry))\n",
    "            image_arr = np.array(im)\n",
    "            \n",
    "            bb = [nx_min, ny_min, nx_max, ny_max]\n",
    "            xyhw = [ncx, ncy, nh, nw]\n",
    "            train_dict = {}\n",
    "            train_dict['name'] = img_name\n",
    "            train_dict['original_height'] = height\n",
    "            train_dict['original_width'] = width\n",
    "            train_dict['bounding_boxes'] = bb\n",
    "            train_dict['image'] = image_arr/255\n",
    "            train_dict['bb_x_y_h_w'] = xyhw\n",
    "            train_data.append(train_dict)\n",
    "            \n",
    "    return train_data\n",
    "\n",
    "train_data = get_img_path()"
   ]
  },
  {
   "cell_type": "code",
   "execution_count": 4,
   "id": "95c5b359",
   "metadata": {},
   "outputs": [],
   "source": [
    "for i in range(0, len(train_data)):\n",
    "    for j in range(i+1, len(train_data)):\n",
    "        if(train_data[i]['name'] == train_data[j]['name']):\n",
    "            train_data[i]['bounding_boxes'] += train_data[j]['bounding_boxes']\n",
    "            train_data[i]['bb_x_y_h_w'] += train_data[j]['bb_x_y_h_w']\n",
    "            train_data[j]['name'] = '0'"
   ]
  },
  {
   "cell_type": "code",
   "execution_count": 5,
   "id": "8c79403c",
   "metadata": {},
   "outputs": [],
   "source": [
    "count = 0\n",
    "try:\n",
    "    for i in range(0, len(train_data)):\n",
    "        if(train_data[i]['name']=='0'):\n",
    "            train_data.pop(i)\n",
    "            count = count +1\n",
    "except:\n",
    "    pass"
   ]
  },
  {
   "cell_type": "code",
   "execution_count": 6,
   "id": "36d43068",
   "metadata": {},
   "outputs": [],
   "source": [
    "def plot_bounding_box(img, bb = []):\n",
    "    b_count = int(len(bb)/4)\n",
    "    img*=255\n",
    "    img = img.astype('uint8')\n",
    "    \n",
    "    im = Image.fromarray(img)\n",
    "    img_draw = ImageDraw.Draw(im)\n",
    "    for i in range(b_count):\n",
    "        nx_min, ny_min, nx_max, ny_max = bb[4*i: 4*(i+1)]\n",
    "        img_draw.rectangle((nx_min, ny_min, nx_max, ny_max), outline = 'red', width = 3)\n",
    "    plt.imshow(im)"
   ]
  },
  {
   "cell_type": "code",
   "execution_count": 7,
   "id": "e0fa2c82",
   "metadata": {
    "scrolled": false
   },
   "outputs": [
    {
     "data": {
      "image/png": "[encoded data removed]",
      "text/plain": [
       "<Figure size 432x288 with 1 Axes>"
      ]
     },
     "metadata": {
      "needs_background": "light"
     },
     "output_type": "display_data"
    }
   ],
   "source": [
    "i=0\n",
    "plot_bounding_box(train_data[i]['image'], train_data[i]['bounding_boxes'])"
   ]
  },
  {
   "cell_type": "markdown",
   "id": "919c8f89",
   "metadata": {},
   "source": [
    "### Task 2: Create the Target Labels"
   ]
  },
  {
   "cell_type": "code",
   "execution_count": 8,
   "id": "ee41594b",
   "metadata": {},
   "outputs": [
    {
     "data": {
      "text/plain": [
       "{'name': 'kangaroo-303.jpg',\n",
       " 'original_height': 572,\n",
       " 'original_width': 1200,\n",
       " 'bounding_boxes': [30.25, 8.39, 150.0, 142.66],\n",
       " 'image': array([[[0.38823529, 0.51372549, 0.25882353],\n",
       "         [0.39215686, 0.52156863, 0.26666667],\n",
       "         [0.38039216, 0.51764706, 0.26666667],\n",
       "         ...,\n",
       "         [0.23529412, 0.30196078, 0.13333333],\n",
       "         [0.21176471, 0.28627451, 0.13333333],\n",
       "         [0.18431373, 0.23529412, 0.12941176]],\n",
       " \n",
       "        [[0.36470588, 0.48235294, 0.24313725],\n",
       "         [0.37254902, 0.49019608, 0.25098039],\n",
       "         [0.36862745, 0.49019608, 0.25098039],\n",
       "         ...,\n",
       "         [0.23529412, 0.30588235, 0.14117647],\n",
       "         [0.21176471, 0.29803922, 0.1372549 ],\n",
       "         [0.18431373, 0.25098039, 0.12941176]],\n",
       " \n",
       "        [[0.3372549 , 0.44313725, 0.21568627],\n",
       "         [0.34117647, 0.44705882, 0.21960784],\n",
       "         [0.3372549 , 0.44313725, 0.21568627],\n",
       "         ...,\n",
       "         [0.23529412, 0.32156863, 0.16078431],\n",
       "         [0.22352941, 0.3254902 , 0.16470588],\n",
       "         [0.20784314, 0.29411765, 0.14901961]],\n",
       " \n",
       "        ...,\n",
       " \n",
       "        [[0.6       , 0.65490196, 0.36078431],\n",
       "         [0.64313725, 0.69019608, 0.4       ],\n",
       "         [0.6627451 , 0.71372549, 0.41960784],\n",
       "         ...,\n",
       "         [0.56862745, 0.55294118, 0.40784314],\n",
       "         [0.51764706, 0.50588235, 0.36078431],\n",
       "         [0.45882353, 0.44705882, 0.28627451]],\n",
       " \n",
       "        [[0.58431373, 0.63921569, 0.34509804],\n",
       "         [0.62745098, 0.67843137, 0.38823529],\n",
       "         [0.63921569, 0.69411765, 0.4       ],\n",
       "         ...,\n",
       "         [0.6       , 0.58039216, 0.44705882],\n",
       "         [0.57254902, 0.54901961, 0.41568627],\n",
       "         [0.54117647, 0.50980392, 0.36862745]],\n",
       " \n",
       "        [[0.57647059, 0.63529412, 0.35294118],\n",
       "         [0.61568627, 0.66666667, 0.38431373],\n",
       "         [0.61176471, 0.66666667, 0.37254902],\n",
       "         ...,\n",
       "         [0.58039216, 0.56078431, 0.43529412],\n",
       "         [0.57254902, 0.54509804, 0.41176471],\n",
       "         [0.58039216, 0.54117647, 0.41176471]]]),\n",
       " 'bb_x_y_h_w': [0.6, 0.5, 0.9, 0.8]}"
      ]
     },
     "execution_count": 8,
     "metadata": {},
     "output_type": "execute_result"
    }
   ],
   "source": [
    "train_data[95]"
   ]
  },
  {
   "cell_type": "code",
   "execution_count": 9,
   "id": "d7648df6",
   "metadata": {},
   "outputs": [],
   "source": [
    "def create_label_matrix():\n",
    "    S=7\n",
    "    C=1\n",
    "    target_matrix = []\n",
    "    for m in range(len(train_data)):\n",
    "        target_y = np.zeros((S,S,C+5))\n",
    "        count_bb = int(len(train_data[m]['bb_x_y_h_w'])/4)\n",
    "        for k in range(count_bb):\n",
    "            j, i = int(S * train_data[m]['bb_x_y_h_w'][4*k + 0]), int(S * train_data[m]['bb_x_y_h_w'][4*k + 1])\n",
    "            r_h, r_w =S * train_data[m]['bb_x_y_h_w'][4*k + 2], S * train_data[m]['bb_x_y_h_w'][4*k + 3]\n",
    "            r_h = float('{:.2f}'.format(r_h))\n",
    "            r_w = float('{:.2f}'.format(r_w))\n",
    "            x_cell, y_cell = S * train_data[m]['bb_x_y_h_w'][4*k + 0] - j, S * train_data[m]['bb_x_y_h_w'][4*k + 1] - i\n",
    "\n",
    "            x_cell = float('{:.2f}'.format(x_cell))\n",
    "            y_cell = float('{:.2f}'.format(y_cell))\n",
    "\n",
    "            target_y[i, j, 0] = 1\n",
    "            target_y[i, j, 1] = 1\n",
    "            target_y[i, j, 2:7] = x_cell, y_cell, r_h, r_w\n",
    "        target_matrix.append(target_y)\n",
    "    return np.array(target_matrix)"
   ]
  },
  {
   "cell_type": "code",
   "execution_count": 10,
   "id": "ec03d7b2",
   "metadata": {},
   "outputs": [],
   "source": [
    "target_matrix = create_label_matrix()"
   ]
  },
  {
   "cell_type": "code",
   "execution_count": 11,
   "id": "15af7aec",
   "metadata": {},
   "outputs": [
    {
     "data": {
      "text/plain": [
       "8.0"
      ]
     },
     "execution_count": 11,
     "metadata": {},
     "output_type": "execute_result"
    }
   ],
   "source": [
    "len(train_data[7]['bb_x_y_h_w'])/4"
   ]
  },
  {
   "cell_type": "code",
   "execution_count": 12,
   "id": "05592d32",
   "metadata": {},
   "outputs": [
    {
     "data": {
      "text/plain": [
       "(287, 7, 7, 6)"
      ]
     },
     "execution_count": 12,
     "metadata": {},
     "output_type": "execute_result"
    }
   ],
   "source": [
    "target_matrix.shape"
   ]
  },
  {
   "cell_type": "code",
   "execution_count": 13,
   "id": "4e3480f6",
   "metadata": {},
   "outputs": [
    {
     "data": {
      "text/plain": [
       "array([[[0.  , 0.  , 0.  , 0.  , 0.  , 0.  ],\n",
       "        [0.  , 0.  , 0.  , 0.  , 0.  , 0.  ],\n",
       "        [0.  , 0.  , 0.  , 0.  , 0.  , 0.  ],\n",
       "        [0.  , 0.  , 0.  , 0.  , 0.  , 0.  ],\n",
       "        [0.  , 0.  , 0.  , 0.  , 0.  , 0.  ],\n",
       "        [0.  , 0.  , 0.  , 0.  , 0.  , 0.  ],\n",
       "        [0.  , 0.  , 0.  , 0.  , 0.  , 0.  ]],\n",
       "\n",
       "       [[0.  , 0.  , 0.  , 0.  , 0.  , 0.  ],\n",
       "        [0.  , 0.  , 0.  , 0.  , 0.  , 0.  ],\n",
       "        [0.  , 0.  , 0.  , 0.  , 0.  , 0.  ],\n",
       "        [0.  , 0.  , 0.  , 0.  , 0.  , 0.  ],\n",
       "        [0.  , 0.  , 0.  , 0.  , 0.  , 0.  ],\n",
       "        [0.  , 0.  , 0.  , 0.  , 0.  , 0.  ],\n",
       "        [0.  , 0.  , 0.  , 0.  , 0.  , 0.  ]],\n",
       "\n",
       "       [[0.  , 0.  , 0.  , 0.  , 0.  , 0.  ],\n",
       "        [1.  , 1.  , 0.89, 0.45, 2.38, 2.38],\n",
       "        [0.  , 0.  , 0.  , 0.  , 0.  , 0.  ],\n",
       "        [0.  , 0.  , 0.  , 0.  , 0.  , 0.  ],\n",
       "        [1.  , 1.  , 0.06, 0.87, 2.45, 1.33],\n",
       "        [0.  , 0.  , 0.  , 0.  , 0.  , 0.  ],\n",
       "        [0.  , 0.  , 0.  , 0.  , 0.  , 0.  ]],\n",
       "\n",
       "       [[0.  , 0.  , 0.  , 0.  , 0.  , 0.  ],\n",
       "        [0.  , 0.  , 0.  , 0.  , 0.  , 0.  ],\n",
       "        [0.  , 0.  , 0.  , 0.  , 0.  , 0.  ],\n",
       "        [0.  , 0.  , 0.  , 0.  , 0.  , 0.  ],\n",
       "        [0.  , 0.  , 0.  , 0.  , 0.  , 0.  ],\n",
       "        [1.  , 1.  , 0.25, 0.5 , 7.  , 1.82],\n",
       "        [0.  , 0.  , 0.  , 0.  , 0.  , 0.  ]],\n",
       "\n",
       "       [[0.  , 0.  , 0.  , 0.  , 0.  , 0.  ],\n",
       "        [0.  , 0.  , 0.  , 0.  , 0.  , 0.  ],\n",
       "        [0.  , 0.  , 0.  , 0.  , 0.  , 0.  ],\n",
       "        [0.  , 0.  , 0.  , 0.  , 0.  , 0.  ],\n",
       "        [0.  , 0.  , 0.  , 0.  , 0.  , 0.  ],\n",
       "        [0.  , 0.  , 0.  , 0.  , 0.  , 0.  ],\n",
       "        [0.  , 0.  , 0.  , 0.  , 0.  , 0.  ]],\n",
       "\n",
       "       [[0.  , 0.  , 0.  , 0.  , 0.  , 0.  ],\n",
       "        [0.  , 0.  , 0.  , 0.  , 0.  , 0.  ],\n",
       "        [0.  , 0.  , 0.  , 0.  , 0.  , 0.  ],\n",
       "        [0.  , 0.  , 0.  , 0.  , 0.  , 0.  ],\n",
       "        [0.  , 0.  , 0.  , 0.  , 0.  , 0.  ],\n",
       "        [0.  , 0.  , 0.  , 0.  , 0.  , 0.  ],\n",
       "        [0.  , 0.  , 0.  , 0.  , 0.  , 0.  ]],\n",
       "\n",
       "       [[0.  , 0.  , 0.  , 0.  , 0.  , 0.  ],\n",
       "        [0.  , 0.  , 0.  , 0.  , 0.  , 0.  ],\n",
       "        [0.  , 0.  , 0.  , 0.  , 0.  , 0.  ],\n",
       "        [0.  , 0.  , 0.  , 0.  , 0.  , 0.  ],\n",
       "        [0.  , 0.  , 0.  , 0.  , 0.  , 0.  ],\n",
       "        [0.  , 0.  , 0.  , 0.  , 0.  , 0.  ],\n",
       "        [0.  , 0.  , 0.  , 0.  , 0.  , 0.  ]]])"
      ]
     },
     "execution_count": 13,
     "metadata": {},
     "output_type": "execute_result"
    }
   ],
   "source": [
    "target_matrix[0]"
   ]
  },
  {
   "cell_type": "markdown",
   "id": "52ecf351",
   "metadata": {},
   "source": [
    "### Task 3: Create the architecture"
   ]
  },
  {
   "cell_type": "code",
   "execution_count": 14,
   "id": "e94530af",
   "metadata": {},
   "outputs": [],
   "source": [
    "architecture_config = [\n",
    "    (7, 64, 2, 3),\n",
    "    \"M\",\n",
    "    (3, 192, 1, 1),\n",
    "    \"M\",\n",
    "    (1, 128, 1, 0),\n",
    "    (3, 256, 1, 1),\n",
    "    (1, 256, 1, 0),\n",
    "    (3, 512, 1, 1),\n",
    "    \"M\",\n",
    "    [(1, 256, 1, 0), (3, 512, 1, 1), 4],\n",
    "    (1, 512, 1, 0),\n",
    "    (3, 1024, 1, 1),\n",
    "    \"M\",\n",
    "    [(1, 512, 1, 0), (3, 1024, 1, 1), 2],\n",
    "    (3, 1024, 1, 1),\n",
    "    (3, 1024, 2, 1),\n",
    "    (3, 1024, 1, 1),\n",
    "    (3, 1024, 1, 1),\n",
    "]"
   ]
  },
  {
   "cell_type": "code",
   "execution_count": 15,
   "id": "0ed293f4",
   "metadata": {},
   "outputs": [
    {
     "data": {
      "text/plain": [
       "[(7, 64, 2, 3),\n",
       " 'M',\n",
       " (3, 192, 1, 1),\n",
       " 'M',\n",
       " (1, 128, 1, 0),\n",
       " (3, 256, 1, 1),\n",
       " (1, 256, 1, 0),\n",
       " (3, 512, 1, 1),\n",
       " 'M',\n",
       " [(1, 256, 1, 0), (3, 512, 1, 1), 4],\n",
       " (1, 512, 1, 0),\n",
       " (3, 1024, 1, 1),\n",
       " 'M',\n",
       " [(1, 512, 1, 0), (3, 1024, 1, 1), 2],\n",
       " (3, 1024, 1, 1),\n",
       " (3, 1024, 2, 1),\n",
       " (3, 1024, 1, 1),\n",
       " (3, 1024, 1, 1)]"
      ]
     },
     "execution_count": 15,
     "metadata": {},
     "output_type": "execute_result"
    }
   ],
   "source": [
    "architecture_config"
   ]
  },
  {
   "cell_type": "code",
   "execution_count": 16,
   "id": "dbb0fd6e",
   "metadata": {},
   "outputs": [],
   "source": [
    "from tensorflow.keras.layers import Conv2D, MaxPooling2D, BatchNormalization, Dense, Flatten, Dropout"
   ]
  },
  {
   "cell_type": "code",
   "execution_count": 17,
   "id": "87e39539",
   "metadata": {},
   "outputs": [],
   "source": [
    "def create_conv_block(kernel_size, filters, padding, strides, activation, name):\n",
    "    x = Conv2D(filters = filters, kernel_size = kernel_size, padding=padding, activation=activation, name = f\"conv_{name}\")\n",
    "    return x"
   ]
  },
  {
   "cell_type": "code",
   "execution_count": 23,
   "id": "5fbf95ca",
   "metadata": {},
   "outputs": [],
   "source": [
    "def create_layer():\n",
    "    layers = []\n",
    "    c_count = 1\n",
    "    m_count = 1\n",
    "    for x in architecture_config:\n",
    "        if(type(x) == tuple):\n",
    "            layer = create_conv_block(kernel_size = x[0], filters = x[1], padding='same', strides = x[2], activation='relu', name = c_count)\n",
    "            layers.append(layer)\n",
    "            c_count+=1\n",
    "            \n",
    "        elif(type(x) == str):\n",
    "            layer = MaxPooling2D(pool_size = 2, strides = 2, name =f\"maxpool{m_count}\")\n",
    "            layers.append(layer)\n",
    "            m_count+=1\n",
    "        \n",
    "        elif(type(x) == list):\n",
    "            conv1 = x[0]\n",
    "            conv2 = x[1]\n",
    "            repeat = x[2]\n",
    "            \n",
    "            for i in range(repeat):\n",
    "                layer=create_conv_block(kernel_size = conv1[0], filters = conv1[1], padding='same', strides = conv1[2], activation='relu', name = c_count)\n",
    "                layers.append(layer)\n",
    "                c_count+=1\n",
    "                layer=create_conv_block(kernel_size = conv2[0], filters = conv2[1], padding='same', strides = conv2[2], activation='relu', name = c_count)\n",
    "                layers.append(layer)\n",
    "                c_count+=1\n",
    "    layer = Flatten(name = \"Flatten_1\")\n",
    "    layers.append(layer)\n",
    "    layer = Dense(1024, activation = 'linear', name=\"Dense_1\")\n",
    "    layers.append(layer)\n",
    "    layer = Dropout(0.2)\n",
    "    layers.append(layer)\n",
    "    layer = Dense(7*7*6, activation = 'linear', name=\"Dense_2\")\n",
    "    layers.append(layer)\n",
    "    return layers   "
   ]
  },
  {
   "cell_type": "code",
   "execution_count": 24,
   "id": "380cfe11",
   "metadata": {},
   "outputs": [],
   "source": [
    "layer = create_layer()"
   ]
  },
  {
   "cell_type": "code",
   "execution_count": 25,
   "id": "ae358d5a",
   "metadata": {},
   "outputs": [
    {
     "data": {
      "text/plain": [
       "[<keras.layers.convolutional.conv2d.Conv2D at 0x2f3820cfcd0>,\n",
       " <keras.layers.pooling.max_pooling2d.MaxPooling2D at 0x2f3820cfa30>,\n",
       " <keras.layers.convolutional.conv2d.Conv2D at 0x2f3820cfa90>,\n",
       " <keras.layers.pooling.max_pooling2d.MaxPooling2D at 0x2f3820cf370>,\n",
       " <keras.layers.convolutional.conv2d.Conv2D at 0x2f3820cf3a0>,\n",
       " <keras.layers.convolutional.conv2d.Conv2D at 0x2f3e121d220>,\n",
       " <keras.layers.convolutional.conv2d.Conv2D at 0x2f3e121dbb0>,\n",
       " <keras.layers.convolutional.conv2d.Conv2D at 0x2f3e121d490>,\n",
       " <keras.layers.pooling.max_pooling2d.MaxPooling2D at 0x2f3e12db910>,\n",
       " <keras.layers.convolutional.conv2d.Conv2D at 0x2f3e12dbd90>,\n",
       " <keras.layers.convolutional.conv2d.Conv2D at 0x2f3de194670>,\n",
       " <keras.layers.convolutional.conv2d.Conv2D at 0x2f3e0076ac0>,\n",
       " <keras.layers.convolutional.conv2d.Conv2D at 0x2f3e00760a0>,\n",
       " <keras.layers.convolutional.conv2d.Conv2D at 0x2f3e0085130>,\n",
       " <keras.layers.convolutional.conv2d.Conv2D at 0x2f3820cd1f0>,\n",
       " <keras.layers.convolutional.conv2d.Conv2D at 0x2f3820cd670>,\n",
       " <keras.layers.convolutional.conv2d.Conv2D at 0x2f3820cdaf0>,\n",
       " <keras.layers.convolutional.conv2d.Conv2D at 0x2f3820cdfa0>,\n",
       " <keras.layers.convolutional.conv2d.Conv2D at 0x2f3820d6460>,\n",
       " <keras.layers.pooling.max_pooling2d.MaxPooling2D at 0x2f3820d6d60>,\n",
       " <keras.layers.convolutional.conv2d.Conv2D at 0x2f3820d68e0>,\n",
       " <keras.layers.convolutional.conv2d.Conv2D at 0x2f3820d4430>,\n",
       " <keras.layers.convolutional.conv2d.Conv2D at 0x2f3820d4460>,\n",
       " <keras.layers.convolutional.conv2d.Conv2D at 0x2f3820d48b0>,\n",
       " <keras.layers.convolutional.conv2d.Conv2D at 0x2f3820d4d30>,\n",
       " <keras.layers.convolutional.conv2d.Conv2D at 0x2f3820db1f0>,\n",
       " <keras.layers.convolutional.conv2d.Conv2D at 0x2f3820db670>,\n",
       " <keras.layers.convolutional.conv2d.Conv2D at 0x2f3820dbaf0>,\n",
       " <keras.layers.reshaping.flatten.Flatten at 0x2f3820cfb20>,\n",
       " <keras.layers.core.dense.Dense at 0x2f3820de940>,\n",
       " <keras.layers.regularization.dropout.Dropout at 0x2f3820de880>,\n",
       " <keras.layers.core.dense.Dense at 0x2f3820dedf0>]"
      ]
     },
     "execution_count": 25,
     "metadata": {},
     "output_type": "execute_result"
    }
   ],
   "source": [
    "layer"
   ]
  },
  {
   "cell_type": "code",
   "execution_count": null,
   "id": "c4beb935",
   "metadata": {},
   "outputs": [],
   "source": [
    "inputs = tf.keras.Input(shape=(None,150,150,3))\n",
    "model = tf.keras.Sequential(layer)                       \n",
    "model.build(input_shape=(None, 150, 150, 3))\n",
    "model.compile(optimizer='adam', loss = 'mse')"
   ]
  },
  {
   "cell_type": "code",
   "execution_count": null,
   "id": "7acdb8b4",
   "metadata": {},
   "outputs": [],
   "source": [
    "model.summary()"
   ]
  },
  {
   "cell_type": "code",
   "execution_count": null,
   "id": "018ace6d",
   "metadata": {},
   "outputs": [],
   "source": []
  }
 ],
 "metadata": {
  "kernelspec": {
   "display_name": "gpu2",
   "language": "python",
   "name": "gpu2"
  },
  "language_info": {
   "codemirror_mode": {
    "name": "ipython",
    "version": 3
   },
   "file_extension": ".py",
   "mimetype": "text/x-python",
   "name": "python",
   "nbconvert_exporter": "python",
   "pygments_lexer": "ipython3",
   "version": "3.9.12"
  }
 },
 "nbformat": 4,
 "nbformat_minor": 5
}
